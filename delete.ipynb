{
 "cells": [
  {
   "metadata": {},
   "cell_type": "raw",
   "source": "",
   "id": "e1e4b65b72022209"
  },
  {
   "metadata": {
    "ExecuteTime": {
     "end_time": "2024-08-02T03:29:23.488403Z",
     "start_time": "2024-08-02T03:29:23.482425Z"
    }
   },
   "cell_type": "code",
   "source": "y = 3",
   "id": "8f44e5a02d6299e2",
   "outputs": [],
   "execution_count": 15
  },
  {
   "metadata": {
    "ExecuteTime": {
     "end_time": "2024-08-02T03:29:23.938941Z",
     "start_time": "2024-08-02T03:29:23.934892Z"
    }
   },
   "cell_type": "code",
   "source": "x = 12",
   "id": "64b94266f0b036cb",
   "outputs": [],
   "execution_count": 16
  },
  {
   "metadata": {
    "ExecuteTime": {
     "end_time": "2024-08-02T03:29:24.126217Z",
     "start_time": "2024-08-02T03:29:24.121353Z"
    }
   },
   "cell_type": "code",
   "source": "z = x + y",
   "id": "f7f58728392c11f6",
   "outputs": [],
   "execution_count": 17
  },
  {
   "metadata": {
    "ExecuteTime": {
     "end_time": "2024-08-02T03:29:24.310910Z",
     "start_time": "2024-08-02T03:29:24.303549Z"
    }
   },
   "cell_type": "code",
   "source": "z",
   "id": "80fbfd87f16e2170",
   "outputs": [
    {
     "data": {
      "text/plain": [
       "15"
      ]
     },
     "execution_count": 18,
     "metadata": {},
     "output_type": "execute_result"
    }
   ],
   "execution_count": 18
  },
  {
   "metadata": {
    "ExecuteTime": {
     "end_time": "2024-08-02T03:29:24.394703Z",
     "start_time": "2024-08-02T03:29:24.390164Z"
    }
   },
   "cell_type": "code",
   "source": "",
   "id": "eafde748dabc0e3a",
   "outputs": [],
   "execution_count": 18
  },
  {
   "metadata": {
    "ExecuteTime": {
     "end_time": "2024-08-02T03:28:57.974149Z",
     "start_time": "2024-08-02T03:28:57.970432Z"
    }
   },
   "cell_type": "code",
   "source": "",
   "id": "e4966ba5fc0fb51c",
   "outputs": [],
   "execution_count": 11
  },
  {
   "metadata": {},
   "cell_type": "code",
   "outputs": [],
   "execution_count": null,
   "source": "",
   "id": "b9344d47b922cb6f"
  }
 ],
 "metadata": {
  "kernelspec": {
   "display_name": "Python 3",
   "language": "python",
   "name": "python3"
  },
  "language_info": {
   "codemirror_mode": {
    "name": "ipython",
    "version": 2
   },
   "file_extension": ".py",
   "mimetype": "text/x-python",
   "name": "python",
   "nbconvert_exporter": "python",
   "pygments_lexer": "ipython2",
   "version": "2.7.6"
  }
 },
 "nbformat": 4,
 "nbformat_minor": 5
}
