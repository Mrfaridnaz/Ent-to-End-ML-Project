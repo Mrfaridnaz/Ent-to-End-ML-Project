{
 "cells": [
  {
   "cell_type": "code",
   "id": "initial_id",
   "metadata": {
    "collapsed": true,
    "ExecuteTime": {
     "end_time": "2024-07-22T18:21:29.747720Z",
     "start_time": "2024-07-22T18:21:29.736372Z"
    }
   },
   "source": "import os",
   "outputs": [],
   "execution_count": 1
  },
  {
   "metadata": {
    "ExecuteTime": {
     "end_time": "2024-07-22T18:22:21.644577Z",
     "start_time": "2024-07-22T18:22:21.639139Z"
    }
   },
   "cell_type": "code",
   "source": [
    "# Python config box\n",
    "\n",
    "d = {\"key1\": \"value1\", \"key2\": \"value2\"}"
   ],
   "id": "27d5e839356b618d",
   "outputs": [],
   "execution_count": 2
  },
  {
   "metadata": {
    "ExecuteTime": {
     "end_time": "2024-07-22T18:23:03.622793Z",
     "start_time": "2024-07-22T18:23:03.610089Z"
    }
   },
   "cell_type": "code",
   "source": "d['key1']",
   "id": "a6f0ac3cf7a6a6bb",
   "outputs": [
    {
     "data": {
      "text/plain": [
       "'value1'"
      ]
     },
     "execution_count": 4,
     "metadata": {},
     "output_type": "execute_result"
    }
   ],
   "execution_count": 4
  },
  {
   "metadata": {
    "ExecuteTime": {
     "end_time": "2024-07-22T18:24:30.984017Z",
     "start_time": "2024-07-22T18:24:30.954466Z"
    }
   },
   "cell_type": "code",
   "source": "d.key1",
   "id": "97ef606481e17f78",
   "outputs": [
    {
     "ename": "AttributeError",
     "evalue": "'dict' object has no attribute 'key1'",
     "output_type": "error",
     "traceback": [
      "\u001B[1;31m---------------------------------------------------------------------------\u001B[0m",
      "\u001B[1;31mAttributeError\u001B[0m                            Traceback (most recent call last)",
      "Cell \u001B[1;32mIn[7], line 1\u001B[0m\n\u001B[1;32m----> 1\u001B[0m d\u001B[38;5;241m.\u001B[39mkey1\n",
      "\u001B[1;31mAttributeError\u001B[0m: 'dict' object has no attribute 'key1'"
     ]
    }
   ],
   "execution_count": 7
  },
  {
   "metadata": {
    "ExecuteTime": {
     "end_time": "2024-07-22T19:46:18.727668Z",
     "start_time": "2024-07-22T19:46:18.416103Z"
    }
   },
   "cell_type": "code",
   "source": "from box import configBox",
   "id": "904c5369cbede4ce",
   "outputs": [
    {
     "ename": "ModuleNotFoundError",
     "evalue": "No module named 'box'",
     "output_type": "error",
     "traceback": [
      "\u001B[1;31m---------------------------------------------------------------------------\u001B[0m",
      "\u001B[1;31mModuleNotFoundError\u001B[0m                       Traceback (most recent call last)",
      "Cell \u001B[1;32mIn[8], line 1\u001B[0m\n\u001B[1;32m----> 1\u001B[0m \u001B[38;5;28;01mfrom\u001B[39;00m \u001B[38;5;21;01mbox\u001B[39;00m \u001B[38;5;28;01mimport\u001B[39;00m configBox\n",
      "\u001B[1;31mModuleNotFoundError\u001B[0m: No module named 'box'"
     ]
    }
   ],
   "execution_count": 8
  },
  {
   "metadata": {
    "ExecuteTime": {
     "end_time": "2024-07-22T19:53:06.704070Z",
     "start_time": "2024-07-22T19:53:06.663720Z"
    }
   },
   "cell_type": "code",
   "source": [
    "class Config:\n",
    "    def __init__(self, config_dict):\n",
    "        for key, value in config_dict.items():\n",
    "            if isinstance(value, dict):\n",
    "                value = Config(value)\n",
    "            setattr(self, key, value)\n",
    "    \n",
    "    def __getattr__(self, item):\n",
    "        return None\n",
    "\n",
    "\n",
    "\n",
    "config = Config(config_dict)\n"
   ],
   "id": "31aaeb1cc3cdf443",
   "outputs": [
    {
     "name": "stdout",
     "output_type": "stream",
     "text": [
      "localhost\n",
      "5432\n"
     ]
    }
   ],
   "execution_count": 9
  },
  {
   "metadata": {
    "ExecuteTime": {
     "end_time": "2024-07-22T19:53:50.089946Z",
     "start_time": "2024-07-22T19:53:50.083593Z"
    }
   },
   "cell_type": "code",
   "source": "config = Config(d)",
   "id": "77412589d12302b6",
   "outputs": [],
   "execution_count": 10
  },
  {
   "metadata": {
    "ExecuteTime": {
     "end_time": "2024-07-22T19:54:04.073942Z",
     "start_time": "2024-07-22T19:54:04.064537Z"
    }
   },
   "cell_type": "code",
   "source": "config.key1",
   "id": "9add522bd31a8a3f",
   "outputs": [
    {
     "data": {
      "text/plain": [
       "'value1'"
      ]
     },
     "execution_count": 12,
     "metadata": {},
     "output_type": "execute_result"
    }
   ],
   "execution_count": 12
  },
  {
   "metadata": {
    "ExecuteTime": {
     "end_time": "2024-07-22T20:02:53.352942Z",
     "start_time": "2024-07-22T20:02:53.306303Z"
    }
   },
   "cell_type": "code",
   "source": "from ensure import ensure_annotation",
   "id": "e8291fa4670da808",
   "outputs": [
    {
     "ename": "ModuleNotFoundError",
     "evalue": "No module named 'ensure'",
     "output_type": "error",
     "traceback": [
      "\u001B[1;31m---------------------------------------------------------------------------\u001B[0m",
      "\u001B[1;31mModuleNotFoundError\u001B[0m                       Traceback (most recent call last)",
      "Cell \u001B[1;32mIn[13], line 1\u001B[0m\n\u001B[1;32m----> 1\u001B[0m \u001B[38;5;28;01mfrom\u001B[39;00m \u001B[38;5;21;01mensure\u001B[39;00m \u001B[38;5;28;01mimport\u001B[39;00m ensure_annotation\n",
      "\u001B[1;31mModuleNotFoundError\u001B[0m: No module named 'ensure'"
     ]
    }
   ],
   "execution_count": 13
  },
  {
   "metadata": {},
   "cell_type": "code",
   "outputs": [],
   "execution_count": null,
   "source": "",
   "id": "9a975f740cf2faa3"
  }
 ],
 "metadata": {
  "kernelspec": {
   "display_name": "Python 3",
   "language": "python",
   "name": "python3"
  },
  "language_info": {
   "codemirror_mode": {
    "name": "ipython",
    "version": 2
   },
   "file_extension": ".py",
   "mimetype": "text/x-python",
   "name": "python",
   "nbconvert_exporter": "python",
   "pygments_lexer": "ipython2",
   "version": "2.7.6"
  }
 },
 "nbformat": 4,
 "nbformat_minor": 5
}
